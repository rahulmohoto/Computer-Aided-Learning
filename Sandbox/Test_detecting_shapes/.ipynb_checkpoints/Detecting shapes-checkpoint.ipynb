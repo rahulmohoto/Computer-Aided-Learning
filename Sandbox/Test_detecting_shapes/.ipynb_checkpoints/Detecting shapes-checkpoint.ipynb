{
 "cells": [
  {
   "cell_type": "code",
   "execution_count": 38,
   "id": "4ad22049",
   "metadata": {},
   "outputs": [],
   "source": [
    "import cv2\n",
    "import numpy as np\n",
    "from matplotlib import pyplot as plt"
   ]
  },
  {
   "cell_type": "code",
   "execution_count": 39,
   "id": "5103d8fd",
   "metadata": {},
   "outputs": [],
   "source": [
    "# reading image\n",
    "# img = cv2.imread('shapes.png')\n",
    "img = cv2.imread('Capture_shape_3.png')\n",
    "\n",
    "# converting image into grayscale image\n",
    "gray = cv2.cvtColor(img, cv2.COLOR_BGR2GRAY)\n",
    "\n",
    "# setting threshold of gray image\n",
    "_, threshold = cv2.threshold(gray, 250, 255, cv2.THRESH_BINARY)\n",
    "\n",
    "# using a findContours() function\n",
    "contours, _ = cv2.findContours(threshold, cv2.RETR_TREE, cv2.CHAIN_APPROX_SIMPLE)\n",
    "\n",
    "cv2.imshow('shapes', threshold)\n",
    "\n",
    "cv2.waitKey(0)\n",
    "cv2.destroyAllWindows()"
   ]
  },
  {
   "cell_type": "code",
   "execution_count": 40,
   "id": "0791f0c7",
   "metadata": {},
   "outputs": [
    {
     "name": "stdout",
     "output_type": "stream",
     "text": [
      "3\n",
      "[[[272  36]]\n",
      "\n",
      " [[292 237]]\n",
      "\n",
      " [[ 63 261]]\n",
      "\n",
      " [[ 47  57]]]\n",
      "[[[270  42]]\n",
      "\n",
      " [[ 50  60]]\n",
      "\n",
      " [[ 64 255]]\n",
      "\n",
      " [[288 235]]]\n"
     ]
    }
   ],
   "source": [
    "i = 0\n",
    "print(len(contours))\n",
    "# list for storing names of shapes\n",
    "for i in range(1,len(contours)):\n",
    "    # here we are ignoring first counter because\n",
    "    # findcontour function detects whole image as shape\n",
    "    contour = contours[i];\n",
    "#     if i == 0:\n",
    "#         i = 1\n",
    "#         continue\n",
    "\n",
    "    # cv2.approxPloyDP() function to approximate the shape\n",
    "    approx = cv2.approxPolyDP(contour, 0.04 * cv2.arcLength(contour, True), True)\n",
    "    print(approx)\n",
    "\n",
    "    # using drawContours() function\n",
    "    cv2.drawContours(img, [contour], 0, (0, 0, 255), 5)\n",
    "    # finding center point of shape\n",
    "    M = cv2.moments(contour)\n",
    "#     print(M)\n",
    "    \n",
    "    if M['m00'] != 0.0:\n",
    "        x = int(M['m10']/M['m00'])\n",
    "        y = int(M['m01']/M['m00'])\n",
    "\n",
    "    # putting shape name at center of each shape\n",
    "    if len(approx) == 3:\n",
    "        cv2.putText(img, 'Triangle', (x, y), cv2.FONT_HERSHEY_SIMPLEX, 0.6, (255, 0, 0), 2)\n",
    "\n",
    "    elif len(approx) == 4:\n",
    "        cv2.putText(img, 'Quadrilateral', (x, y), cv2.FONT_HERSHEY_SIMPLEX, 0.6, (255, 0, 0), 2)\n",
    "\n",
    "    elif len(approx) == 5:\n",
    "        cv2.putText(img, 'Pentagon', (x, y), cv2.FONT_HERSHEY_SIMPLEX, 0.6, (255, 0, 0), 2)\n",
    "\n",
    "    elif len(approx) == 6:\n",
    "        cv2.putText(img, 'Hexagon', (x, y), cv2.FONT_HERSHEY_SIMPLEX, 0.6, (255, 0, 0), 2)\n",
    "\n",
    "    else:\n",
    "        cv2.putText(img, 'circle', (x, y), cv2.FONT_HERSHEY_SIMPLEX, 0.6, (255, 0, 0), 2)\n",
    "        \n",
    "    # displaying the image after drawing contours\n",
    "#     cv2.imshow('shapes', img)\n",
    "\n",
    "#     cv2.waitKey(0)\n",
    "#     cv2.destroyAllWindows()\n",
    "\n",
    "# displaying the image after drawing contours\n",
    "cv2.imshow('shapes', img)\n",
    "\n",
    "cv2.waitKey(0)\n",
    "cv2.destroyAllWindows()"
   ]
  },
  {
   "cell_type": "code",
   "execution_count": null,
   "id": "3df0820f",
   "metadata": {},
   "outputs": [],
   "source": []
  }
 ],
 "metadata": {
  "kernelspec": {
   "display_name": "Python 3",
   "language": "python",
   "name": "python3"
  },
  "language_info": {
   "codemirror_mode": {
    "name": "ipython",
    "version": 3
   },
   "file_extension": ".py",
   "mimetype": "text/x-python",
   "name": "python",
   "nbconvert_exporter": "python",
   "pygments_lexer": "ipython3",
   "version": "3.8.2"
  }
 },
 "nbformat": 4,
 "nbformat_minor": 5
}
